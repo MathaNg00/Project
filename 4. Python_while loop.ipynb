{
 "cells": [
  {
   "cell_type": "code",
   "execution_count": 1,
   "metadata": {},
   "outputs": [],
   "source": [
    "import random"
   ]
  },
  {
   "cell_type": "raw",
   "metadata": {},
   "source": [
    "# Trong project này, chúng ta sẽ làm 1 trò chơi nhỏ mang tên đoán số. Cụ thể, Máy tính sẽ chọn random 1 số từ 1 đến 10. \n",
    "### Chúng ta sẽ đoán máy tính chọn số bao nhiêu?\n",
    "#### - Nếu số chúng ta đoán thấp hơn máy tính thì in ra \"your guess is too low\"\n",
    "#### - Nếu số chúng ta đoán cao hơn máy tính thì in ra \"your guess is too high\"\n",
    "#### - Nếu chúng ta đoán đúng số thì in ra \"you got the right number after\" xx \"tries\" trong đó xx là số lần đoán.\n",
    "#### - Trường hợp 5 lần đoán sai thì sẽ dừng trò chơi và in ra \"Gameover!!! The number was yy\" trong đó yy là số mà máy tính chọn\n",
    "\n",
    "#### Những kiến thức cover trong project này: input(), print(), while loop, if else, break."
   ]
  },
  {
   "cell_type": "code",
   "execution_count": 2,
   "metadata": {},
   "outputs": [
    {
     "name": "stdout",
     "output_type": "stream",
     "text": [
      "Your name: a\n",
      "Hi! Welcome to the guessing game\n"
     ]
    }
   ],
   "source": [
    "# generate random number\n",
    "computer = random.randint(1,11)\n",
    "\n",
    "# ask player name\n",
    "player = input(\"Your name: \")\n",
    "# Say hi and welcome player to the guessing game\n",
    "print(\"Hi! Welcome to the guessing game\")\n"
   ]
  },
  {
   "cell_type": "code",
   "execution_count": 3,
   "metadata": {},
   "outputs": [
    {
     "name": "stdout",
     "output_type": "stream",
     "text": [
      "Guess a integer number from 1 to 10: 5\n",
      "your guess is too high\n",
      "Guess a integer number from 1 to 10: 4\n",
      "you got the right number after 2 tries\n"
     ]
    }
   ],
   "source": [
    "# develop while loop\n",
    "number = random.randint(1,10)\n",
    "number_guess = 0\n",
    "player_name = input(\"Hi! What's your name?\")\n",
    "print(\"Nice to meet you,\",player_name,\". Now we will play guessing game\")\n",
    "\n",
    "while number_guess <= 5:\n",
    "    guess = int(input(\"What number do you guess \"))\n",
    "    number_guess +=1\n",
    "    if (guess < number) :\n",
    "        print(\"your guess is too low\")\n",
    "    elif (guess > number):\n",
    "        print(\"your guess is too high\")\n",
    "    elif (guess == number):\n",
    "        print(\"you got the right number after\", number_guess, \"tries\")\n",
    "        break\n",
    "        \n",
    "if (number_guess > 5):\n",
    "    print(\"Gameover!!! The number was\", number)\n"
   ]
  },
  {
   "cell_type": "code",
   "execution_count": null,
   "metadata": {},
   "outputs": [],
   "source": []
  }
 ],
 "metadata": {
  "kernelspec": {
   "display_name": "Python 3 (ipykernel)",
   "language": "python",
   "name": "python3"
  },
  "language_info": {
   "codemirror_mode": {
    "name": "ipython",
    "version": 3
   },
   "file_extension": ".py",
   "mimetype": "text/x-python",
   "name": "python",
   "nbconvert_exporter": "python",
   "pygments_lexer": "ipython3",
   "version": "3.9.7"
  }
 },
 "nbformat": 4,
 "nbformat_minor": 2
}
