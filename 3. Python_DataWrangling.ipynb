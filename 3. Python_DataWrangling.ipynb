{
 "cells": [
  {
   "cell_type": "code",
   "execution_count": 1,
   "metadata": {},
   "outputs": [
    {
     "name": "stdout",
     "output_type": "stream",
     "text": [
      "     product_id          ordered_at  quantity_ordered   price  revenue\n",
      "0       3998909 2018-09-18 17:51:00                 1   16500    16500\n",
      "1       3998909 2018-09-18 12:52:00                 1   16500    16500\n",
      "2       3998909 2018-09-18 11:33:00                 1   16500    16500\n",
      "3       3998909 2018-09-18 18:47:00                 1   16500    16500\n",
      "4       3998909 2018-09-18 17:36:00                 1   16500    16500\n",
      "5       3998909 2018-09-17 19:09:00                 1   16500    16500\n",
      "6       3998909 2018-09-18 16:02:00                 1   16500    16500\n",
      "7       3998909 2018-09-17 22:29:00                 1   16500    16500\n",
      "8       3998909 2018-09-18 19:46:00                 2   16500    33000\n",
      "9       3998909 2018-09-18 11:02:00                 1   16500    16500\n",
      "10      3998909 2018-09-18 17:43:00                 1   16500    16500\n",
      "11      3998909 2018-09-18 22:11:00                 1   16500    16500\n",
      "12      3998909 2018-09-17 17:34:00                 1   16500    16500\n",
      "13      3954203 2018-09-11 13:32:00                 1   64000    64000\n",
      "14      3954203 2018-09-11 17:00:00                 1   64000    64000\n",
      "15      3954203 2018-09-11 18:26:00                 1   64000    64000\n",
      "16      3954203 2018-09-11 14:13:00                 1   64000    64000\n",
      "17      3954203 2018-09-11 15:10:00                 1   64000    64000\n",
      "18      3954203 2018-09-12 19:16:00                 1   64000    64000\n",
      "19      3954203 2018-09-11 14:58:00                 1   64000    64000\n",
      "20      3954203 2018-09-11 12:26:00                 1   64000    64000\n",
      "21      3954203 2018-09-11 16:00:00                 1   64000    64000\n",
      "22      3954203 2018-09-11 15:27:00                 1   64000    64000\n",
      "23      3998909 2018-09-13 18:58:00                 1   15500    15500\n",
      "24      3954203 2018-09-11 11:11:00                 1   60000    60000\n",
      "25      3954203 2018-09-11 11:11:00                 1   60000    60000\n",
      "26      4085861 2018-09-11 06:53:00                 1   60000    60000\n",
      "27      4085861 2018-09-11 08:24:00                 1   60000    60000\n",
      "28      4085861 2018-09-11 06:26:00                 1   60000    60000\n",
      "29      4085861 2018-09-16 11:23:00                 1   58000    58000\n",
      "..          ...                 ...               ...     ...      ...\n",
      "145     4085861 2018-09-13 21:08:00                 1   62500    62500\n",
      "146     4085861 2018-09-13 08:12:00                 1   62500    62500\n",
      "147     4085861 2018-09-13 08:05:00                 1   62500    62500\n",
      "148     4085861 2018-09-13 11:52:00                 1   62500    62500\n",
      "149     4085861 2018-09-13 17:42:00                 1   62500    62500\n",
      "150     4085861 2018-09-14 22:29:00                 1   62500    62500\n",
      "151     4085861 2018-09-14 07:30:00                 1   62500    62500\n",
      "152     4085861 2018-09-14 09:19:00                 1   62500    62500\n",
      "153     4085861 2018-09-13 19:01:00                 1   62500    62500\n",
      "154     4085861 2018-09-14 20:00:00                 1   62500    62500\n",
      "155     4085861 2018-09-13 16:33:00                 1   62500    62500\n",
      "156     4085861 2018-09-14 19:32:00                 1   62500    62500\n",
      "157     4085861 2018-09-13 14:56:00                 1   62500    62500\n",
      "158     4085861 2018-09-14 12:34:00                 1   62500    62500\n",
      "159     4085861 2018-09-13 14:22:00                 1   62500    62500\n",
      "160     4085861 2018-09-13 22:05:00                 1   62500    62500\n",
      "161     4085861 2018-09-13 19:07:00                 1   62500    62500\n",
      "162     4085861 2018-09-13 11:57:00                 1   62500    62500\n",
      "163     4085861 2018-09-14 18:04:00                 1   62500    62500\n",
      "164     4085861 2018-09-14 19:02:00                 1   62500    62500\n",
      "165     4085861 2018-09-14 09:56:00                 1   62500    62500\n",
      "166     4085861 2018-09-13 19:03:00                 1   62500    62500\n",
      "167     4085861 2018-09-13 19:24:00                 1   62500    62500\n",
      "168     4085861 2018-09-14 13:17:00                 1   62500    62500\n",
      "169     4085861 2018-09-13 11:55:00                 1   62500    62500\n",
      "170     4085861 2018-09-13 23:29:00                 1   62500    62500\n",
      "171          64 2018-09-11 19:32:00                 1  239000   239000\n",
      "172          64 2018-09-14 20:10:00                 1  239000   239000\n",
      "173          64 2018-09-12 16:00:00                 1  239000   239000\n",
      "174          64 2018-09-12 13:23:00                 1  239000   239000\n",
      "\n",
      "[175 rows x 5 columns]\n"
     ]
    }
   ],
   "source": [
    "import pandas as pd\n",
    "import numpy as np\n",
    "\n",
    "#load file\n",
    "sale = pd.read_csv('sales.csv')\n",
    "price = pd.read_csv('prices.csv')\n",
    "\n"
   ]
  },
  {
   "cell_type": "code",
   "execution_count": null,
   "metadata": {},
   "outputs": [],
   "source": [
    "#convert ordered_at, updated_at to datetime object (using pd.to_datetime)\n",
    "sale['ordered_at'] = pd.to_datetime(sale['ordered_at'])\n",
    "price['updated_at'] = pd.to_datetime(price['updated_at'])"
   ]
  },
  {
   "cell_type": "code",
   "execution_count": null,
   "metadata": {},
   "outputs": [],
   "source": [
    "#def function that return the cloest date that price update\n",
    "def closest_update_date (id, order_date):\n",
    "    new_date = price['updated_at'][price['product_id'] == id]\n",
    "    if order_date < new_date.min():\n",
    "       closest_date = new_date.min()\n",
    "    else :\n",
    "       closest_date = new_date[order_date > new_date].max()                            \n",
    "    return closest_date"
   ]
  },
  {
   "cell_type": "code",
   "execution_count": null,
   "metadata": {},
   "outputs": [],
   "source": [
    "#def function that return closest price base on productid and order_date\n",
    "def return_closest_price(id, order_date):\n",
    "    day = closest_update_date (id, order_date)\n",
    "    if order_date < day :\n",
    "       closest_price = price['old_price'][(price['updated_at'] == day) & (price['product_id'] == id)].values[0]\n",
    "    else :\n",
    "       closest_price = price['new_price'][(price['updated_at'] == day) & (price['product_id'] == id)].values[0]                              \n",
    "    return closest_price"
   ]
  },
  {
   "cell_type": "code",
   "execution_count": null,
   "metadata": {},
   "outputs": [],
   "source": [
    "#Find price corresponding each row and append to update_price array.\n",
    "update_price=[]\n",
    "for i in np.arange(len(sale)):\n",
    "    updated_price = return_closest_price(sale.iloc[i]['product_id'], sale.iloc[i]['ordered_at'])\n",
    "    update_price.append(updated_price)\n",
    "\n",
    "#create and calculate price and revenue column\n",
    "sale[\"price\"] = update_price\n",
    "sale[\"revenue\"] = sale['price'] * sale['quantity_ordered']\n",
    "\n",
    "#export to csv file\n",
    "print(sale)\n",
    "sale.to_csv(\"revenue.csv\")"
   ]
  },
  {
   "cell_type": "code",
   "execution_count": 2,
   "metadata": {},
   "outputs": [
    {
     "name": "stdout",
     "output_type": "stream",
     "text": [
      "            revenue\n",
      "product_id         \n",
      "64           956000\n",
      "3954203      877500\n",
      "3998909      280500\n",
      "4085861     8247500\n"
     ]
    }
   ],
   "source": [
    "print(sale.groupby('product_id').agg({'revenue':sum}))"
   ]
  },
  {
   "cell_type": "code",
   "execution_count": null,
   "metadata": {},
   "outputs": [],
   "source": []
  }
 ],
 "metadata": {
  "kernelspec": {
   "display_name": "Python 3",
   "language": "python",
   "name": "python3"
  },
  "language_info": {
   "codemirror_mode": {
    "name": "ipython",
    "version": 3
   },
   "file_extension": ".py",
   "mimetype": "text/x-python",
   "name": "python",
   "nbconvert_exporter": "python",
   "pygments_lexer": "ipython3",
   "version": "3.6.8"
  }
 },
 "nbformat": 4,
 "nbformat_minor": 5
}
