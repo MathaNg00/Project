{
 "cells": [
  {
   "cell_type": "code",
   "execution_count": 1,
   "metadata": {},
   "outputs": [],
   "source": [
    "import random"
   ]
  },
  {
   "cell_type": "markdown",
   "metadata": {},
   "source": [
    "#### Trong project này chúng ta sẽ mô phỏng lại trò chơi dân gian oẳn tù tì.\n",
    "#### Cụ thể, chúng ta sẽ oẳn tù tì với máy. Máy sẽ chọn random búa, kéo, hoặc lá trong mỗi lần oẳn tù tì.\n",
    "#### Chúng ta sẽ chọn ra búa, kéo hoặc lá sau đó in ra kết quả. Trường hợp người chơi nhập sai, yêu cầu người chơi nhập lại theo đúng chính tả theo 3 sự lựa chọn búa, kéo, hoặc lá.\n",
    "#### Lưu ý, sau mỗi lượt chơi, máy sẽ random chọn lại búa kéo hoặc lá.\n",
    "\n",
    "#### Các kiến thức cover trong mini project này: Array, random, while loop, if else."
   ]
  },
  {
   "cell_type": "code",
   "execution_count": 2,
   "metadata": {},
   "outputs": [
    {
     "name": "stdout",
     "output_type": "stream",
     "text": [
      "Chọn búa, kéo hay lá: lá\n",
      "Hoà\n"
     ]
    }
   ],
   "source": [
    "# tạo array búa, kéo, lá\n",
    "game = [\"búa\", \"kéo\", \"lá\"]\n",
    "\n",
    "# máy chọn random\n",
    "computer = game[random.randint(0,2)]\n",
    "\n",
    "# tạo vòng lặp while để chạy chương trình\n",
    "player = True\n",
    "\n",
    "while player == True:\n",
    "    player = input(\"Chọn búa, kéo hay lá: \")\n",
    "    if player == computer:\n",
    "        print(\"Hoà\")\n",
    "    elif player == \"búa\":\n",
    "        if computer == \"lá\":\n",
    "            print(\"Thua\")\n",
    "        else:\n",
    "            print(\"Thắng\")\n",
    "    elif player == \"lá\":\n",
    "        if computer == \"kéo\":\n",
    "            print(\"Thua\")\n",
    "        else:\n",
    "            print (\"Thắng\")\n",
    "    elif player == \"kéo\":\n",
    "        if computer == \"búa\":\n",
    "            print(\"Thua\")\n",
    "        else:\n",
    "            print (\"Thắng\")\n",
    "    else:\n",
    "        print(\"Bạn nhập sai rồi. Hãy nhập lại!\")\n"
   ]
  },
  {
   "cell_type": "code",
   "execution_count": null,
   "metadata": {},
   "outputs": [],
   "source": []
  },
  {
   "cell_type": "code",
   "execution_count": null,
   "metadata": {},
   "outputs": [],
   "source": []
  }
 ],
 "metadata": {
  "kernelspec": {
   "display_name": "Python 3 (ipykernel)",
   "language": "python",
   "name": "python3"
  },
  "language_info": {
   "codemirror_mode": {
    "name": "ipython",
    "version": 3
   },
   "file_extension": ".py",
   "mimetype": "text/x-python",
   "name": "python",
   "nbconvert_exporter": "python",
   "pygments_lexer": "ipython3",
   "version": "3.9.7"
  }
 },
 "nbformat": 4,
 "nbformat_minor": 2
}
